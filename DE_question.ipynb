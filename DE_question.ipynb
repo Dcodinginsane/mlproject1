{
  "nbformat": 4,
  "nbformat_minor": 0,
  "metadata": {
    "colab": {
      "provenance": [],
      "authorship_tag": "ABX9TyMZd/I7d8Pne6VEHKCqik8L",
      "include_colab_link": true
    },
    "kernelspec": {
      "name": "python3",
      "display_name": "Python 3"
    },
    "language_info": {
      "name": "python"
    }
  },
  "cells": [
    {
      "cell_type": "markdown",
      "metadata": {
        "id": "view-in-github",
        "colab_type": "text"
      },
      "source": [
        "<a href=\"https://colab.research.google.com/github/Dcodinginsane/mlproject1/blob/main/DE_question.ipynb\" target=\"_parent\"><img src=\"https://colab.research.google.com/assets/colab-badge.svg\" alt=\"Open In Colab\"/></a>"
      ]
    },
    {
      "cell_type": "markdown",
      "source": [
        "#150+ Widely asked python coding Interview Question with Solution"
      ],
      "metadata": {
        "id": "H_iLI1y6N7nm"
      }
    },
    {
      "cell_type": "markdown",
      "source": [
        "Here’s an extended list of 170+ Python interview coding questions, focusing on\n",
        "strings, lists, dictionaries, sets, if-else statements, loops, and intermediate\n",
        "problems on those topics.\n"
      ],
      "metadata": {
        "id": "zlYLbdaJN5PS"
      }
    },
    {
      "cell_type": "markdown",
      "source": [
        "1. Check if  string is a palindrome"
      ],
      "metadata": {
        "id": "fjVKow0uA3eP"
      }
    },
    {
      "cell_type": "code",
      "execution_count": null,
      "metadata": {
        "id": "IxjIZmjW8Qlm",
        "colab": {
          "base_uri": "https://localhost:8080/"
        },
        "outputId": "656c7f20-36b6-4692-bd4c-31d9004034fd"
      },
      "outputs": [
        {
          "output_type": "stream",
          "name": "stdout",
          "text": [
            "False\n"
          ]
        }
      ],
      "source": [
        "def is_palindrome(s):\n",
        "  s = s.lower().replace(\" \",\"\") #Ignore case and space\n",
        "  return s==s[::-1]\n",
        "\n",
        "print(is_palindrome(\"A man a plan a cancel panama\"))"
      ]
    },
    {
      "cell_type": "markdown",
      "source": [
        "2.Count the number of vowels and consonants in a string:"
      ],
      "metadata": {
        "id": "pYhMLwCmBdof"
      }
    },
    {
      "cell_type": "code",
      "source": [
        "def count_vowels_consonants(s):\n",
        "  vowels = \"aeiouAEIOU\"\n",
        "  v_count = c_count = 0\n",
        "  for char in s :\n",
        "    if char.isalpha():\n",
        "      if char in vowels:\n",
        "        v_count +=1\n",
        "      else:\n",
        "         c_count += 1\n",
        "\n",
        "    return  v_count , c_count\n",
        "\n",
        "\n",
        "vowels, consonants = count_vowels_consonants(\"Hello World!\")\n",
        "print(f\"Vowels: {vowels}, Consonants: {consonants}\")"
      ],
      "metadata": {
        "colab": {
          "base_uri": "https://localhost:8080/"
        },
        "id": "xxJK9GRbBmdq",
        "outputId": "426670d5-0bff-401a-b100-1b7c59a16c65"
      },
      "execution_count": null,
      "outputs": [
        {
          "output_type": "stream",
          "name": "stdout",
          "text": [
            "Vowels: 0, Consonants: 1\n"
          ]
        }
      ]
    },
    {
      "cell_type": "code",
      "source": [
        "def count_vowels_consonants(s):\n",
        "    vowels = \"aeiouAEIOU\"\n",
        "    v_count = c_count = 0\n",
        "    for char in s:\n",
        "        if char.isalpha():\n",
        "            if char in vowels:\n",
        "                v_count += 1\n",
        "            else:\n",
        "                c_count += 1\n",
        "    return v_count, c_count\n",
        "\n",
        "# Example\n",
        "vowels, consonants = count_vowels_consonants(\"Hello World!\")\n",
        "print(f\"Vowels: {vowels}, Consonants: {consonants}\")\n"
      ],
      "metadata": {
        "colab": {
          "base_uri": "https://localhost:8080/"
        },
        "id": "zDhDXq41Culd",
        "outputId": "8f51eed0-350c-44ba-f878-bf717d81519c"
      },
      "execution_count": null,
      "outputs": [
        {
          "output_type": "stream",
          "name": "stdout",
          "text": [
            "Vowels: 3, Consonants: 7\n"
          ]
        }
      ]
    },
    {
      "cell_type": "markdown",
      "source": [
        "3.  Reverse a string:"
      ],
      "metadata": {
        "id": "DW2GDIJgCwxQ"
      }
    },
    {
      "cell_type": "code",
      "source": [
        "def reverse_string(s):\n",
        "    return s[::-1]\n",
        "\n",
        "# Example\n",
        "print(reverse_string(\"hello\"))  # \"olleh\"\n"
      ],
      "metadata": {
        "colab": {
          "base_uri": "https://localhost:8080/"
        },
        "id": "C4tPQlsgC048",
        "outputId": "c6938e9b-1c3d-4f91-dfa1-059c18db025e"
      },
      "execution_count": null,
      "outputs": [
        {
          "output_type": "stream",
          "name": "stdout",
          "text": [
            "olleh\n"
          ]
        }
      ]
    },
    {
      "cell_type": "markdown",
      "source": [
        "4. Count the number of words  in a string"
      ],
      "metadata": {
        "id": "huvGgQy8C96T"
      }
    },
    {
      "cell_type": "code",
      "source": [
        "def count_words(s):\n",
        "    return len(s.split())\n",
        "\n",
        "# Example\n",
        "print(count_words(\"This is a test string\"))  # 5\n"
      ],
      "metadata": {
        "colab": {
          "base_uri": "https://localhost:8080/"
        },
        "id": "A4W9LjywC2O6",
        "outputId": "c410ada0-72be-4d0d-d741-9262e11308f9"
      },
      "execution_count": null,
      "outputs": [
        {
          "output_type": "stream",
          "name": "stdout",
          "text": [
            "5\n"
          ]
        }
      ]
    },
    {
      "cell_type": "markdown",
      "source": [
        "5  Check if a string contains only digits:"
      ],
      "metadata": {
        "id": "2Cc6N7-BE8RH"
      }
    },
    {
      "cell_type": "code",
      "source": [
        "def is_only_digits(s):\n",
        "    return s.isdigit()\n",
        "\n",
        "# Example\n",
        "print(is_only_digits(\"12345\"))  # True\n",
        "print(is_only_digits(\"123a5\"))  # False\n"
      ],
      "metadata": {
        "colab": {
          "base_uri": "https://localhost:8080/"
        },
        "id": "liJZfsVBFDGD",
        "outputId": "6bcfd234-3c40-44da-a2f8-e865d84f0f28"
      },
      "execution_count": null,
      "outputs": [
        {
          "output_type": "stream",
          "name": "stdout",
          "text": [
            "True\n",
            "False\n"
          ]
        }
      ]
    },
    {
      "cell_type": "markdown",
      "source": [
        "6. Remove all whitespaces from  a string"
      ],
      "metadata": {
        "id": "sngOX07TFJTW"
      }
    },
    {
      "cell_type": "code",
      "source": [
        "def remove_whitespaces(s):\n",
        "    return s.replace(\" \", \"\")\n",
        "\n",
        "# Example\n",
        "print(remove_whitespaces(\"Hello World\"))  # \"HelloWorld\"\n"
      ],
      "metadata": {
        "colab": {
          "base_uri": "https://localhost:8080/"
        },
        "id": "dAgp-LFlFN-h",
        "outputId": "81192804-63bd-4af3-b586-f4e31294a59b"
      },
      "execution_count": null,
      "outputs": [
        {
          "output_type": "stream",
          "name": "stdout",
          "text": [
            "HelloWorld\n"
          ]
        }
      ]
    },
    {
      "cell_type": "markdown",
      "source": [
        "7. Check if a string is an anagram of another string"
      ],
      "metadata": {
        "id": "rXOfavWFFVJz"
      }
    },
    {
      "cell_type": "code",
      "source": [
        "def is_anagram(s1, s2):\n",
        "    return sorted(s1.replace(\" \", \"\").lower()) == sorted(s2.replace(\" \", \"\").lower())\n",
        "\n",
        "# Example\n",
        "print(is_anagram(\"listen\", \"silent\"))  # True\n"
      ],
      "metadata": {
        "colab": {
          "base_uri": "https://localhost:8080/"
        },
        "id": "E2aymgxiFbwk",
        "outputId": "f422d9a2-f307-4beb-b31c-e05171a25d43"
      },
      "execution_count": null,
      "outputs": [
        {
          "output_type": "stream",
          "name": "stdout",
          "text": [
            "True\n"
          ]
        }
      ]
    },
    {
      "cell_type": "markdown",
      "source": [
        "8 Count the occcurrences of a character in string"
      ],
      "metadata": {
        "id": "O9g0ykx3FpMe"
      }
    },
    {
      "cell_type": "code",
      "source": [
        "def count_char(s, char):\n",
        "    return s.count(char)\n",
        "\n",
        "# Example\n",
        "print(count_char(\"hello world\", \"o\"))  # 2\n"
      ],
      "metadata": {
        "colab": {
          "base_uri": "https://localhost:8080/"
        },
        "id": "cdYAdGQjFvQM",
        "outputId": "f447b9be-34f8-4193-a658-484ffec9ccc5"
      },
      "execution_count": null,
      "outputs": [
        {
          "output_type": "stream",
          "name": "stdout",
          "text": [
            "2\n"
          ]
        }
      ]
    },
    {
      "cell_type": "markdown",
      "source": [
        "9. Find the length of a string without using the len() function"
      ],
      "metadata": {
        "id": "saG_8QbvF1Ou"
      }
    },
    {
      "cell_type": "code",
      "source": [
        "def string_length(s):\n",
        "    count = 0\n",
        "    for _ in s:\n",
        "        count += 1\n",
        "    return count\n",
        "\n",
        "# Example\n",
        "print(string_length(\"hello\"))  # 5\n"
      ],
      "metadata": {
        "colab": {
          "base_uri": "https://localhost:8080/"
        },
        "id": "I_0kq2opFyWL",
        "outputId": "27fb766d-d3f9-4c07-cbfb-9bd1711887fc"
      },
      "execution_count": null,
      "outputs": [
        {
          "output_type": "stream",
          "name": "stdout",
          "text": [
            "5\n"
          ]
        }
      ]
    },
    {
      "cell_type": "markdown",
      "source": [
        "10. Covernt a string to uppercase and lowercase :"
      ],
      "metadata": {
        "id": "47yXtqIPGD1S"
      }
    },
    {
      "cell_type": "code",
      "source": [
        "def to_uppercase(s):\n",
        "    return s.upper()\n",
        "\n",
        "def to_lowercase(s):\n",
        "    return s.lower()\n",
        "\n",
        "# Example\n",
        "print(to_uppercase(\"hello\"))  # \"HELLO\"\n",
        "print(to_lowercase(\"WORLD\"))  # \"world\"\n"
      ],
      "metadata": {
        "colab": {
          "base_uri": "https://localhost:8080/"
        },
        "id": "ehSOVdRgGIuY",
        "outputId": "9401daa8-5192-4592-c93d-d952f90283a0"
      },
      "execution_count": null,
      "outputs": [
        {
          "output_type": "stream",
          "name": "stdout",
          "text": [
            "HELLO\n",
            "world\n"
          ]
        }
      ]
    },
    {
      "cell_type": "markdown",
      "source": [
        "11. Replace all occurrences of a substring in a string"
      ],
      "metadata": {
        "id": "G3NBke8MGQ3P"
      }
    },
    {
      "cell_type": "code",
      "source": [
        "def replace_substring(s, old, new):\n",
        "    return s.replace(old, new)\n",
        "\n",
        "# Example\n",
        "print(replace_substring(\"hello world\", \"world\", \"everyone\"))  # \"hello everyone\"\n"
      ],
      "metadata": {
        "colab": {
          "base_uri": "https://localhost:8080/"
        },
        "id": "PN961wn2GW4m",
        "outputId": "7725866a-f830-4877-ce99-24c28cc2e275"
      },
      "execution_count": null,
      "outputs": [
        {
          "output_type": "stream",
          "name": "stdout",
          "text": [
            "hello everyone\n"
          ]
        }
      ]
    },
    {
      "cell_type": "markdown",
      "source": [
        "12. Find the index of the fist occurrence of a substring"
      ],
      "metadata": {
        "id": "HyM_td5eGaww"
      }
    },
    {
      "cell_type": "code",
      "source": [
        "def find_substring(s, sub):\n",
        "    return s.find(sub)\n",
        "\n",
        "# Example\n",
        "print(find_substring(\"hello world\", \"world\"))  # 6\n"
      ],
      "metadata": {
        "colab": {
          "base_uri": "https://localhost:8080/"
        },
        "id": "Rj36CAwPGYFl",
        "outputId": "46a92583-150b-4414-afe7-9f58607f13af"
      },
      "execution_count": null,
      "outputs": [
        {
          "output_type": "stream",
          "name": "stdout",
          "text": [
            "6\n"
          ]
        }
      ]
    },
    {
      "cell_type": "markdown",
      "source": [
        "13. Capitalize the first letter of each word in a string"
      ],
      "metadata": {
        "id": "RKiGdHotGpBO"
      }
    },
    {
      "cell_type": "code",
      "source": [
        "def capitalize_words(s):\n",
        "    return s.title()\n",
        "\n",
        "# Example\n",
        "print(capitalize_words(\"hello world\"))  # \"Hello World\"\n"
      ],
      "metadata": {
        "colab": {
          "base_uri": "https://localhost:8080/"
        },
        "id": "c2U8A4fQGu8Q",
        "outputId": "4fccd19e-7c63-480f-a79d-28d47576059d"
      },
      "execution_count": null,
      "outputs": [
        {
          "output_type": "stream",
          "name": "stdout",
          "text": [
            "Hello World\n"
          ]
        }
      ]
    },
    {
      "cell_type": "markdown",
      "source": [
        "14. Check if a string starts with a specific prefic"
      ],
      "metadata": {
        "id": "yEvQnRb9Gxg_"
      }
    },
    {
      "cell_type": "code",
      "source": [
        "def starts_with(s, prefix):\n",
        "    return s.startswith(prefix)\n",
        "\n",
        "# Example\n",
        "print(starts_with(\"hello world\", \"hello\"))  # True\n"
      ],
      "metadata": {
        "colab": {
          "base_uri": "https://localhost:8080/"
        },
        "id": "6peSVDmiG3oY",
        "outputId": "a89f2805-84c4-4507-aa71-b8a859b45975"
      },
      "execution_count": null,
      "outputs": [
        {
          "output_type": "stream",
          "name": "stdout",
          "text": [
            "True\n"
          ]
        }
      ]
    },
    {
      "cell_type": "markdown",
      "source": [
        "15. Find the longes word in  a stirng"
      ],
      "metadata": {
        "id": "yVp3UNT8G9Xz"
      }
    },
    {
      "cell_type": "code",
      "source": [
        "def longest_word(s):\n",
        "    words = s.split()\n",
        "    return max(words, key=len)\n",
        "\n",
        "# Example\n",
        "print(longest_word(\"I love programming\"))  # \"programming\"\n"
      ],
      "metadata": {
        "colab": {
          "base_uri": "https://localhost:8080/"
        },
        "id": "l_bJDxkQHBMI",
        "outputId": "71a49e75-1277-4788-9f5d-cf6181695a21"
      },
      "execution_count": null,
      "outputs": [
        {
          "output_type": "stream",
          "name": "stdout",
          "text": [
            "programming\n"
          ]
        }
      ]
    },
    {
      "cell_type": "markdown",
      "source": [
        "16. Check if two strings are rotations of each other :"
      ],
      "metadata": {
        "id": "lqAyHROZHE84"
      }
    },
    {
      "cell_type": "code",
      "source": [
        "def are_rotations(s1, s2):\n",
        "    return len(s1) == len(s2) and s2 in (s1 + s1)\n",
        "\n",
        "# Example\n",
        "print(are_rotations(\"abcd\", \"dabc\"))  # True\n"
      ],
      "metadata": {
        "colab": {
          "base_uri": "https://localhost:8080/"
        },
        "id": "YgCUIFzBHK-5",
        "outputId": "5119d8f3-3180-44d3-cb16-1363b2c8626f"
      },
      "execution_count": null,
      "outputs": [
        {
          "output_type": "stream",
          "name": "stdout",
          "text": [
            "True\n"
          ]
        }
      ]
    },
    {
      "cell_type": "markdown",
      "source": [
        "17. Remove duplicate characters from a  string"
      ],
      "metadata": {
        "id": "LU1jGa8RHTFg"
      }
    },
    {
      "cell_type": "code",
      "source": [
        "def remove_duplicates(s):\n",
        "    result = []\n",
        "    for char in s:\n",
        "        if char not in result:\n",
        "            result.append(char)\n",
        "    return ''.join(result)\n",
        "\n",
        "# Example\n",
        "print(remove_duplicates(\"programming\"))  # \"progamin\"\n"
      ],
      "metadata": {
        "colab": {
          "base_uri": "https://localhost:8080/"
        },
        "id": "e3EJ3-KyHYP3",
        "outputId": "a74152cf-8fdf-4fd8-a59e-9dc9f810523a"
      },
      "execution_count": null,
      "outputs": [
        {
          "output_type": "stream",
          "name": "stdout",
          "text": [
            "progamin\n"
          ]
        }
      ]
    },
    {
      "cell_type": "markdown",
      "source": [
        "18. Reverse the order of words in a string"
      ],
      "metadata": {
        "id": "QFmWOZMUHalY"
      }
    },
    {
      "cell_type": "code",
      "source": [
        "def reverse_words(s):\n",
        "    return ' '.join(s.split()[::-1])\n",
        "\n",
        "# Example\n",
        "print(reverse_words(\"I love Python programming\"))  # \"programming Python love I\"\n"
      ],
      "metadata": {
        "colab": {
          "base_uri": "https://localhost:8080/"
        },
        "id": "Go5RkUSGHe47",
        "outputId": "e8108515-b09f-435f-daab-aa1be09f5d6d"
      },
      "execution_count": null,
      "outputs": [
        {
          "output_type": "stream",
          "name": "stdout",
          "text": [
            "programming Python love I\n"
          ]
        }
      ]
    },
    {
      "cell_type": "markdown",
      "source": [
        "19. Count the frequency of each charater in string"
      ],
      "metadata": {
        "id": "lsV_aEw-Hln5"
      }
    },
    {
      "cell_type": "code",
      "source": [
        "def char_frequency(s):\n",
        "  freq = {}\n",
        "  for char in s :\n",
        "    if char in freq:\n",
        "       freq[char] +=1\n",
        "\n",
        "    else:\n",
        "      freq[char] = 1\n",
        "  return freq\n",
        "\n",
        "# Example\n",
        "print(char_frequency(\"hello world\"))\n",
        "# Output: {'h': 1, 'e': 1, 'l': 3, 'o': 2, ' ': 1, 'w': 1, 'r': 1, 'd': 1}"
      ],
      "metadata": {
        "colab": {
          "base_uri": "https://localhost:8080/"
        },
        "id": "zn6_LW4MHqxv",
        "outputId": "5095fbaa-57ca-4359-c3a0-be6aab9ff9bf"
      },
      "execution_count": null,
      "outputs": [
        {
          "output_type": "stream",
          "name": "stdout",
          "text": [
            "{'h': 1, 'e': 1, 'l': 3, 'o': 2, ' ': 1, 'w': 1, 'r': 1, 'd': 1}\n"
          ]
        }
      ]
    },
    {
      "cell_type": "markdown",
      "source": [
        "20 Convert a string to a list of characters:"
      ],
      "metadata": {
        "id": "Guu4l05zIVBz"
      }
    },
    {
      "cell_type": "code",
      "source": [
        "def string_to_list(s):\n",
        "    return list(s)\n",
        "\n",
        "# Example\n",
        "print(string_to_list(\"hello\"))  # ['h', 'e', 'l', 'l', 'o']\n"
      ],
      "metadata": {
        "colab": {
          "base_uri": "https://localhost:8080/"
        },
        "id": "d2krOu2XIWpe",
        "outputId": "61d159e1-ad41-4c80-ccd3-8dfe69d376a4"
      },
      "execution_count": null,
      "outputs": [
        {
          "output_type": "stream",
          "name": "stdout",
          "text": [
            "['h', 'e', 'l', 'l', 'o']\n"
          ]
        }
      ]
    },
    {
      "cell_type": "markdown",
      "source": [
        "21. Find the maximum and minimum elements in a list:"
      ],
      "metadata": {
        "id": "uGXQnK1nIcaU"
      }
    },
    {
      "cell_type": "code",
      "source": [
        "def find_max_min(lst):\n",
        "    return max(lst), min(lst)\n",
        "\n",
        "# Example\n",
        "print(find_max_min([1, 2, 3, 4, 5]))  # (5, 1)\n"
      ],
      "metadata": {
        "colab": {
          "base_uri": "https://localhost:8080/"
        },
        "id": "HIeNzNGRIeIw",
        "outputId": "75629c37-9814-4b48-a8cc-c9798c11a0de"
      },
      "execution_count": null,
      "outputs": [
        {
          "output_type": "stream",
          "name": "stdout",
          "text": [
            "(5, 1)\n"
          ]
        }
      ]
    },
    {
      "cell_type": "markdown",
      "source": [
        "22. Reverse a list without using built-in functions:"
      ],
      "metadata": {
        "id": "FF6BjvdsIk42"
      }
    },
    {
      "cell_type": "code",
      "source": [
        "def reverse_list(lst):\n",
        "    result = []\n",
        "    for i in range(len(lst)-1, -1, -1):\n",
        "        result.append(lst[i])\n",
        "    return result\n",
        "\n",
        "# Example\n",
        "print(reverse_list([1, 2, 3, 4]))  # [4, 3, 2, 1]\n"
      ],
      "metadata": {
        "colab": {
          "base_uri": "https://localhost:8080/"
        },
        "id": "zYWu_gpwIhcV",
        "outputId": "58bd6773-421d-4dea-900a-26d7cdf76cf1"
      },
      "execution_count": null,
      "outputs": [
        {
          "output_type": "stream",
          "name": "stdout",
          "text": [
            "[4, 3, 2, 1]\n"
          ]
        }
      ]
    },
    {
      "cell_type": "markdown",
      "source": [
        "23. Sort a list  of numbers"
      ],
      "metadata": {
        "id": "7dW3uzxbI2Qe"
      }
    },
    {
      "cell_type": "code",
      "source": [
        "def sort_list(lst):\n",
        "    return sorted(lst)\n",
        "\n",
        "# Example\n",
        "print(sort_list([4, 2, 8, 1]))  # [1, 2, 4, 8]\n"
      ],
      "metadata": {
        "colab": {
          "base_uri": "https://localhost:8080/"
        },
        "id": "j8wX3Z3tI5dF",
        "outputId": "dedda0d1-72e7-4e42-9e1d-d775454f9a1a"
      },
      "execution_count": null,
      "outputs": [
        {
          "output_type": "stream",
          "name": "stdout",
          "text": [
            "[1, 2, 4, 8]\n"
          ]
        }
      ]
    },
    {
      "cell_type": "markdown",
      "source": [
        "24. Remove duplicats from a list"
      ],
      "metadata": {
        "id": "TmjNvXgvI8u8"
      }
    },
    {
      "cell_type": "code",
      "source": [
        "def remove_duplicates(lst):\n",
        "    return list(set(lst))\n",
        "\n",
        "# Example\n",
        "print(remove_duplicates([1, 2, 2, 3, 4, 4]))  # [1, 2, 3, 4]\n"
      ],
      "metadata": {
        "colab": {
          "base_uri": "https://localhost:8080/"
        },
        "id": "SHLTZzvBJBLe",
        "outputId": "8e2b1284-7522-46c0-e03b-b9d43bccd3ef"
      },
      "execution_count": null,
      "outputs": [
        {
          "output_type": "stream",
          "name": "stdout",
          "text": [
            "[1, 2, 3, 4]\n"
          ]
        }
      ]
    },
    {
      "cell_type": "markdown",
      "source": [
        "25. Count the occurrences of an element in a list"
      ],
      "metadata": {
        "id": "nskVr1D-JEnV"
      }
    },
    {
      "cell_type": "code",
      "source": [
        "def count_occurrences(lst, element):\n",
        "    return lst.count(element)\n",
        "\n",
        "# Example\n",
        "print(count_occurrences([1, 2, 2, 3, 2], 2))  # 3\n"
      ],
      "metadata": {
        "colab": {
          "base_uri": "https://localhost:8080/"
        },
        "id": "WxFzbdkRJKz6",
        "outputId": "c831007b-b44b-4c53-b47b-d9a949c9530f"
      },
      "execution_count": null,
      "outputs": [
        {
          "output_type": "stream",
          "name": "stdout",
          "text": [
            "3\n"
          ]
        }
      ]
    },
    {
      "cell_type": "markdown",
      "source": [
        "26. Find the sum of all elements in a list"
      ],
      "metadata": {
        "id": "c2rpV3CoJNxy"
      }
    },
    {
      "cell_type": "code",
      "source": [
        "def sum_list(lst):\n",
        "    return sum(lst)\n",
        "\n",
        "# Example\n",
        "print(sum_list([1, 2, 3, 4]))  # 10\n"
      ],
      "metadata": {
        "colab": {
          "base_uri": "https://localhost:8080/"
        },
        "id": "weRMCr6AJSKE",
        "outputId": "2d7b9f8f-83f9-4785-a4f3-0b74b3d65da6"
      },
      "execution_count": null,
      "outputs": [
        {
          "output_type": "stream",
          "name": "stdout",
          "text": [
            "10\n"
          ]
        }
      ]
    },
    {
      "cell_type": "markdown",
      "source": [
        "27 Find the second largest number in a list"
      ],
      "metadata": {
        "id": "2n9cIfI2JXYG"
      }
    },
    {
      "cell_type": "code",
      "source": [
        "def second_largest(lst):\n",
        "    unique_lst = list(set(lst))  # Remove duplicates\n",
        "    unique_lst.sort()\n",
        "    return unique_lst[-2] if len(unique_lst) > 1 else None\n",
        "\n",
        "# Example\n",
        "print(second_largest([1, 2, 3, 4]))  # 3\n"
      ],
      "metadata": {
        "colab": {
          "base_uri": "https://localhost:8080/"
        },
        "id": "6bLYhEJQJfmH",
        "outputId": "41e5e2fb-d19f-49eb-8fb7-b9fcd4100729"
      },
      "execution_count": null,
      "outputs": [
        {
          "output_type": "stream",
          "name": "stdout",
          "text": [
            "3\n"
          ]
        }
      ]
    },
    {
      "cell_type": "markdown",
      "source": [
        "28. Merge two sorted lists"
      ],
      "metadata": {
        "id": "14VUvyPCJiBP"
      }
    },
    {
      "cell_type": "code",
      "source": [
        "def merge_sorted_lists(lst1, lst2):\n",
        "    return sorted(lst1 + lst2)\n",
        "\n",
        "# Example\n",
        "print(merge_sorted_lists([1, 3, 5], [2, 4, 6]))  # [1, 2, 3, 4, 5, 6]\n"
      ],
      "metadata": {
        "colab": {
          "base_uri": "https://localhost:8080/"
        },
        "id": "Lkd2dCUWJl3F",
        "outputId": "e6e640c2-74b0-4fef-df8a-a425dbc7c616"
      },
      "execution_count": null,
      "outputs": [
        {
          "output_type": "stream",
          "name": "stdout",
          "text": [
            "[1, 2, 3, 4, 5, 6]\n"
          ]
        }
      ]
    },
    {
      "cell_type": "markdown",
      "source": [
        "29 Check if   a list is empty"
      ],
      "metadata": {
        "id": "VuWHJEgSJrpg"
      }
    },
    {
      "cell_type": "code",
      "source": [
        "def is_list_empty(lst):\n",
        "    return len(lst) == 0\n",
        "\n",
        "# Example\n",
        "print(is_list_empty([]))  # True\n"
      ],
      "metadata": {
        "colab": {
          "base_uri": "https://localhost:8080/"
        },
        "id": "ksnTakagJvN1",
        "outputId": "194dde48-f184-45da-8c3c-39f77ac6887b"
      },
      "execution_count": null,
      "outputs": [
        {
          "output_type": "stream",
          "name": "stdout",
          "text": [
            "True\n"
          ]
        }
      ]
    },
    {
      "cell_type": "markdown",
      "source": [
        "30 Concatenate two lists"
      ],
      "metadata": {
        "id": "G-NSCuFZJxXk"
      }
    },
    {
      "cell_type": "code",
      "source": [
        "def concatenate_lists(lst1, lst2):\n",
        "    return lst1 + lst2\n",
        "\n",
        "# Example\n",
        "print(concatenate_lists([1, 2], [3, 4]))  # [1, 2, 3, 4]\n"
      ],
      "metadata": {
        "colab": {
          "base_uri": "https://localhost:8080/"
        },
        "id": "7neh7dMjJ0qz",
        "outputId": "9d740409-89e0-483e-de05-9f6f4981073f"
      },
      "execution_count": null,
      "outputs": [
        {
          "output_type": "stream",
          "name": "stdout",
          "text": [
            "[1, 2, 3, 4]\n"
          ]
        }
      ]
    },
    {
      "cell_type": "markdown",
      "source": [
        "31. Check if an elements exists in a list"
      ],
      "metadata": {
        "id": "UGGI9JGCJ3P0"
      }
    },
    {
      "cell_type": "code",
      "source": [
        "def element_exists(lst, element):\n",
        "    return element in lst\n",
        "\n",
        "# Example\n",
        "print(element_exists([1, 2, 3], 2))  # True\n"
      ],
      "metadata": {
        "colab": {
          "base_uri": "https://localhost:8080/"
        },
        "id": "VMJUDXLNJ9So",
        "outputId": "d580d44b-cae9-41ac-c421-86426a6e8366"
      },
      "execution_count": null,
      "outputs": [
        {
          "output_type": "stream",
          "name": "stdout",
          "text": [
            "True\n"
          ]
        }
      ]
    },
    {
      "cell_type": "markdown",
      "source": [
        "32. Split a list into even and odd numbers"
      ],
      "metadata": {
        "id": "EigkhgXBJ_qu"
      }
    },
    {
      "cell_type": "code",
      "source": [
        "def split_even_odd(lst):\n",
        "    even = [x for x in lst if x % 2 == 0]\n",
        "    odd = [x for x in lst if x % 2 != 0]\n",
        "    return even, odd\n",
        "\n",
        "# Example\n",
        "print(split_even_odd([1, 2, 3, 4]))  # ([2, 4], [1, 3])\n"
      ],
      "metadata": {
        "colab": {
          "base_uri": "https://localhost:8080/"
        },
        "id": "uXk5-A8DKFDJ",
        "outputId": "0683fc77-9ad0-44b0-de73-7e1d9e747217"
      },
      "execution_count": null,
      "outputs": [
        {
          "output_type": "stream",
          "name": "stdout",
          "text": [
            "([2, 4], [1, 3])\n"
          ]
        }
      ]
    },
    {
      "cell_type": "markdown",
      "source": [
        "33. Find the product of element in a list"
      ],
      "metadata": {
        "id": "Hapnfc87KKkQ"
      }
    },
    {
      "cell_type": "code",
      "source": [
        "from functools import reduce\n",
        "def product_list(lst):\n",
        "    return reduce(lambda x, y: x * y, lst)\n",
        "\n",
        "# Example\n",
        "print(product_list([1, 2, 3, 4]))  # 24\n"
      ],
      "metadata": {
        "colab": {
          "base_uri": "https://localhost:8080/"
        },
        "id": "vF6oOGsFKOu0",
        "outputId": "c0bbe80e-0f02-4565-ff9c-649136f25447"
      },
      "execution_count": null,
      "outputs": [
        {
          "output_type": "stream",
          "name": "stdout",
          "text": [
            "24\n"
          ]
        }
      ]
    },
    {
      "cell_type": "markdown",
      "source": [
        "34 Count the number of even and odd numbers in a list:"
      ],
      "metadata": {
        "id": "uUj_3wU1KXWG"
      }
    },
    {
      "cell_type": "code",
      "source": [
        "def count_even_odd(lst):\n",
        "    even_count = len([x for x in lst if x % 2 == 0])\n",
        "    odd_count = len([x for x in lst if x % 2 != 0])\n",
        "    return even_count, odd_count\n",
        "\n",
        "# Example\n",
        "print(count_even_odd([1, 2, 3, 4]))  # (2, 2)\n"
      ],
      "metadata": {
        "colab": {
          "base_uri": "https://localhost:8080/"
        },
        "id": "jCsn6uTCKVHF",
        "outputId": "1d8eb5c1-e9c0-40f1-f052-8606acfaec49"
      },
      "execution_count": null,
      "outputs": [
        {
          "output_type": "stream",
          "name": "stdout",
          "text": [
            "(2, 2)\n"
          ]
        }
      ]
    },
    {
      "cell_type": "markdown",
      "source": [
        "35 Flatten a nested list"
      ],
      "metadata": {
        "id": "hIbWej3XKtxY"
      }
    },
    {
      "cell_type": "code",
      "source": [
        "def flatten_list(lst):\n",
        "    flat_list = []\n",
        "    for sublist in lst:\n",
        "        if isinstance(sublist, list):\n",
        "            flat_list.extend(flatten_list(sublist))\n",
        "        else:\n",
        "            flat_list.append(sublist)\n",
        "    return flat_list\n",
        "\n",
        "# Example\n",
        "print(flatten_list([[1, 2], [3, [4, 5]], 6]))  # [1, 2, 3, 4, 5, 6]\n"
      ],
      "metadata": {
        "colab": {
          "base_uri": "https://localhost:8080/"
        },
        "id": "Wj93rquTKdX9",
        "outputId": "37a0f075-1756-46eb-bc37-a355b1c0f3a2"
      },
      "execution_count": null,
      "outputs": [
        {
          "output_type": "stream",
          "name": "stdout",
          "text": [
            "[1, 2, 3, 4, 5, 6]\n"
          ]
        }
      ]
    },
    {
      "cell_type": "markdown",
      "source": [
        "36 Rotate a list by a specified number of positions"
      ],
      "metadata": {
        "id": "vodPdz5MK7Hx"
      }
    },
    {
      "cell_type": "code",
      "source": [
        "def rotate_list(lst, positions):\n",
        "    return lst[positions:] + lst[:positions]\n",
        "\n",
        "# Example\n",
        "print(rotate_list([1, 2, 3, 4], 2))  # [3, 4, 1, 2]\n"
      ],
      "metadata": {
        "colab": {
          "base_uri": "https://localhost:8080/"
        },
        "id": "29nBwqoSLA8R",
        "outputId": "118e00b1-101f-4d9a-99c8-4c498899f900"
      },
      "execution_count": null,
      "outputs": [
        {
          "output_type": "stream",
          "name": "stdout",
          "text": [
            "[3, 4, 1, 2]\n"
          ]
        }
      ]
    },
    {
      "cell_type": "markdown",
      "source": [
        "37 Remove all occurrences of a value from a list"
      ],
      "metadata": {
        "id": "tiw7igAlLFCO"
      }
    },
    {
      "cell_type": "code",
      "source": [
        "def remove_value(lst, value):\n",
        "    return [x for x in lst if x != value]\n",
        "\n",
        "# Example\n",
        "print(remove_value([1, 2, 2, 3, 4], 2))  # [1, 3, 4]\n"
      ],
      "metadata": {
        "colab": {
          "base_uri": "https://localhost:8080/"
        },
        "id": "r4cY5SQKLMwR",
        "outputId": "7c11af0c-341b-42ad-d64d-a673ed2d761c"
      },
      "execution_count": null,
      "outputs": [
        {
          "output_type": "stream",
          "name": "stdout",
          "text": [
            "[1, 3, 4]\n"
          ]
        }
      ]
    },
    {
      "cell_type": "markdown",
      "source": [
        "38 Find the common elements between two list"
      ],
      "metadata": {
        "id": "-3va-GksLTOX"
      }
    },
    {
      "cell_type": "code",
      "source": [
        "def common_elements(lst1, lst2):\n",
        "    return list(set(lst1) & set(lst2))\n",
        "\n",
        "# Example\n",
        "print(common_elements([1, 2, 3], [2, 3, 4]))  # [2, 3]\n"
      ],
      "metadata": {
        "colab": {
          "base_uri": "https://localhost:8080/"
        },
        "id": "i9s08YZZLSMc",
        "outputId": "ed8febea-4f1c-4928-c902-6a7033f6a483"
      },
      "execution_count": null,
      "outputs": [
        {
          "output_type": "stream",
          "name": "stdout",
          "text": [
            "[2, 3]\n"
          ]
        }
      ]
    },
    {
      "cell_type": "markdown",
      "source": [
        "39.Splist a list into two halves:"
      ],
      "metadata": {
        "id": "vPfyEI7ZLdI6"
      }
    },
    {
      "cell_type": "code",
      "source": [
        "def split_list(lst):\n",
        "    mid = len(lst) // 2\n",
        "    return lst[:mid], lst[mid:]\n",
        "\n",
        "# Example\n",
        "print(split_list([1, 2, 3, 4, 5, 6]))  # ([1, 2, 3], [4, 5, 6])\n"
      ],
      "metadata": {
        "colab": {
          "base_uri": "https://localhost:8080/"
        },
        "id": "v95T6qisLbZ-",
        "outputId": "35504451-c05f-433a-f1ae-fdeb2f86abfa"
      },
      "execution_count": null,
      "outputs": [
        {
          "output_type": "stream",
          "name": "stdout",
          "text": [
            "([1, 2, 3], [4, 5, 6])\n"
          ]
        }
      ]
    },
    {
      "cell_type": "markdown",
      "source": [
        "40 Find the cumulative sum of elements in list"
      ],
      "metadata": {
        "id": "k3wY2VkyLlyp"
      }
    },
    {
      "cell_type": "code",
      "source": [
        "def cumulative_sum(lst):\n",
        "    cum_sum = []\n",
        "    total = 0\n",
        "    for num in lst:\n",
        "        total += num\n",
        "        cum_sum.append(total)\n",
        "    return cum_sum\n",
        "\n",
        "# Example\n",
        "print(cumulative_sum([1, 2, 3, 4]))  # [1, 3, 6, 10]\n"
      ],
      "metadata": {
        "colab": {
          "base_uri": "https://localhost:8080/"
        },
        "id": "8vDYHvfwLkRQ",
        "outputId": "6b372aef-e894-49e0-b675-6ac65522b966"
      },
      "execution_count": null,
      "outputs": [
        {
          "output_type": "stream",
          "name": "stdout",
          "text": [
            "[1, 3, 6, 10]\n"
          ]
        }
      ]
    },
    {
      "cell_type": "markdown",
      "source": [
        "41 Find the intersection of two list"
      ],
      "metadata": {
        "id": "HhJDlddKLtjo"
      }
    },
    {
      "cell_type": "code",
      "source": [
        "def list_intersection(lst1, lst2):\n",
        "    return list(set(lst1) & set(lst2))\n",
        "\n",
        "# Example\n",
        "print(list_intersection([1, 2, 3], [2, 3, 4]))  # [2, 3]\n"
      ],
      "metadata": {
        "colab": {
          "base_uri": "https://localhost:8080/"
        },
        "id": "_EWv8HqCLrzy",
        "outputId": "f10ee32c-b665-46e1-c5ac-6ab8faa39d02"
      },
      "execution_count": null,
      "outputs": [
        {
          "output_type": "stream",
          "name": "stdout",
          "text": [
            "[2, 3]\n"
          ]
        }
      ]
    },
    {
      "cell_type": "markdown",
      "source": [
        "42 Find the union of two lists"
      ],
      "metadata": {
        "id": "7ansG2JJL6os"
      }
    },
    {
      "cell_type": "code",
      "source": [
        "def list_union(lst1, lst2):\n",
        "    return list(set(lst1) | set(lst2))\n",
        "\n",
        "# Example\n",
        "print(list_union([1, 2, 3], [2, 3, 4]))  # [1, 2, 3, 4]\n"
      ],
      "metadata": {
        "colab": {
          "base_uri": "https://localhost:8080/"
        },
        "id": "O0Foc2QqL5ae",
        "outputId": "7edd79b3-3bd6-4acc-cc88-384462e71e64"
      },
      "execution_count": null,
      "outputs": [
        {
          "output_type": "stream",
          "name": "stdout",
          "text": [
            "[1, 2, 3, 4]\n"
          ]
        }
      ]
    },
    {
      "cell_type": "markdown",
      "source": [
        "43 Check if two lists are identical"
      ],
      "metadata": {
        "id": "wt4rXmPzMELv"
      }
    },
    {
      "cell_type": "code",
      "source": [
        "def are_identical(lst1, lst2):\n",
        "    return lst1 == lst2\n",
        "\n",
        "# Example\n",
        "print(are_identical([1, 2, 3], [1, 2, 3]))  # True\n",
        "print(are_identical([1, 2, 3], [1, 2, 4]))  # False\n"
      ],
      "metadata": {
        "colab": {
          "base_uri": "https://localhost:8080/"
        },
        "id": "V8XTJPL6L-_c",
        "outputId": "70fa9d99-c48d-472a-ad8a-1950eef9ba75"
      },
      "execution_count": null,
      "outputs": [
        {
          "output_type": "stream",
          "name": "stdout",
          "text": [
            "True\n",
            "False\n"
          ]
        }
      ]
    },
    {
      "cell_type": "markdown",
      "source": [
        "44. Covert a list of character into a string"
      ],
      "metadata": {
        "id": "1oI3UBr3MKYJ"
      }
    },
    {
      "cell_type": "code",
      "source": [
        "def list_to_string(lst):\n",
        "    return ''.join(lst)\n",
        "\n",
        "# Example\n",
        "print(list_to_string(['h', 'e', 'l', 'l', 'o']))  # \"hello\"\n"
      ],
      "metadata": {
        "colab": {
          "base_uri": "https://localhost:8080/"
        },
        "id": "DtnXzIFgMP2D",
        "outputId": "a9f78692-6a68-4a07-e0e2-26d7362fc2bc"
      },
      "execution_count": null,
      "outputs": [
        {
          "output_type": "stream",
          "name": "stdout",
          "text": [
            "hello\n"
          ]
        }
      ]
    },
    {
      "cell_type": "markdown",
      "source": [
        "45. Multiply all elements in a list by a given number"
      ],
      "metadata": {
        "id": "Jj0BEJNZMVUu"
      }
    },
    {
      "cell_type": "code",
      "source": [
        "def multiply_elements(lst, multiplier):\n",
        "    return [x * multiplier for x in lst]\n",
        "\n",
        "# Example\n",
        "print(multiply_elements([1, 2, 3], 3))  # [3, 6, 9]\n"
      ],
      "metadata": {
        "colab": {
          "base_uri": "https://localhost:8080/"
        },
        "id": "SJLfz2gaMUMt",
        "outputId": "4770c4dc-20dc-4e5a-d55e-f19409c34baf"
      },
      "execution_count": null,
      "outputs": [
        {
          "output_type": "stream",
          "name": "stdout",
          "text": [
            "[3, 6, 9]\n"
          ]
        }
      ]
    },
    {
      "cell_type": "markdown",
      "source": [
        "46. Write a program to create a dictionary from two lists (keys and values).\n",
        "47. Write a program to access a value by key in a dictionary.\n",
        "48. Write a program to update the value of a key in a dictionary.\n",
        "49. Write a program to remove a key from a dictionary.\n",
        "50. Write a program to merge two dictionaries.\n",
        "51. Write a program to find the maximum and minimum value in a dictionary.\n",
        "52. Write a program to count the frequency of each word in a string using a\n",
        "dictionary.\n",
        "53. Write a program to check if a key exists in a dictionary.\n",
        "54. Write a program to iterate over dictionary keys and values.\n",
        "55. Write a program to invert a dictionary (swap keys and values).\n",
        "56. Write a program to get a list of all keys and values in a dictionary.\n",
        "57. Write a program to sort a dictionary by its keys.\n",
        "58. Write a program to find common keys between two dictionaries\n",
        "59. Write a program to calculate the sum of values in a dictionary.\n",
        "60. Write a program to remove all duplicate values from a dictionary.\n",
        "61. Write a program to get the key with the maximum value in a dictionary.\n",
        "62. Write a program to filter dictionary entries based on their values.\n",
        "63. Write a program to find keys in a dictionary that have a specific value.\n",
        "64. Write a program to group elements in a list by frequency using a dictionary.\n",
        "65. Write a program to sort a dictionary by its values.\n",
        "66. Write a program to create a set and add elements to it.\n",
        "67. Write a program to remove an element from a set.\n",
        "68. Write a program to find the union of two sets.\n",
        "69. Write a program to find the intersection of two sets.\n",
        "70. Write a program to check if a set is a subset of another set.\n",
        "71. Write a program to find the difference between two sets.\n",
        "72. Write a program to iterate over the elements of a set.\n",
        "73. Write a program to convert a list into a set and remove duplicates.\n",
        "74. Write a program to find the symmetric difference of two sets.\n",
        "75. Write a program to check if two sets have any common elements.\n",
        "76. Write a program to check if a set is a superset of another set.\n",
        "77. Write a program to check if a set is disjoint from another set.\n",
        "78. Write a program to remove all elements from a set.\n",
        "79. Write a program to find the smallest and largest elements in a set.\n",
        "80. Write a program to find the length of a set without using the len() function.\n",
        "81. Write a program to check if a number is positive, negative, or zero."
      ],
      "metadata": {
        "id": "sbxZeXcRNcLd"
      }
    },
    {
      "cell_type": "code",
      "source": [
        "# 46. Create a dictionary from two lists (keys and values)\n",
        "def create_dict(keys, values):\n",
        "    return dict(zip(keys, values))\n",
        "\n",
        "# 47. Access a value by key in a dictionary\n",
        "def access_value(d, key):\n",
        "    return d.get(key, \"Key not found\")\n",
        "\n",
        "# 48. Update the value of a key in a dictionary\n",
        "def update_value(d, key, value):\n",
        "    d[key] = value\n",
        "    return d\n",
        "\n",
        "# 49. Remove a key from a dictionary\n",
        "def remove_key(d, key):\n",
        "    if key in d:\n",
        "        del d[key]\n",
        "    return d\n",
        "\n",
        "# 50. Merge two dictionaries\n",
        "def merge_dicts(d1, d2):\n",
        "    d1.update(d2)\n",
        "    return d1\n",
        "\n",
        "# 51. Find the maximum and minimum value in a dictionary\n",
        "def max_min_values(d):\n",
        "    return max(d.values()), min(d.values())\n",
        "\n",
        "# 52. Count the frequency of each word in a string using a dictionary\n",
        "def word_frequency(s):\n",
        "    words = s.split()\n",
        "    freq = {}\n",
        "    for word in words:\n",
        "        freq[word] = freq.get(word, 0) + 1\n",
        "    return freq\n",
        "\n",
        "# 53. Check if a key exists in a dictionary\n",
        "def key_exists(d, key):\n",
        "    return key in d\n",
        "\n",
        "# 54. Iterate over dictionary keys and values\n",
        "def iterate_dict(d):\n",
        "    for key, value in d.items():\n",
        "        print(f\"Key: {key}, Value: {value}\")\n",
        "\n",
        "# 55. Invert a dictionary (swap keys and values)\n",
        "def invert_dict(d):\n",
        "    return {v: k for k, v in d.items()}\n",
        "\n",
        "# 56. Get a list of all keys and values in a dictionary\n",
        "def keys_and_values(d):\n",
        "    return list(d.keys()), list(d.values())\n",
        "\n",
        "# 57. Sort a dictionary by its keys\n",
        "def sort_dict_by_keys(d):\n",
        "    return dict(sorted(d.items()))\n",
        "\n",
        "# 58. Find common keys between two dictionaries\n",
        "def common_keys(d1, d2):\n",
        "    return set(d1.keys()) & set(d2.keys())\n",
        "\n",
        "# 59. Calculate the sum of values in a dictionary\n",
        "def sum_of_values(d):\n",
        "    return sum(d.values())\n",
        "\n",
        "# 60. Remove all duplicate values from a dictionary\n",
        "def remove_duplicates(d):\n",
        "    seen = set()\n",
        "    new_dict = {}\n",
        "    for key, value in d.items():\n",
        "        if value not in seen:\n",
        "            new_dict[key] = value\n",
        "            seen.add(value)\n",
        "    return new_dict\n",
        "\n",
        "# 61. Get the key with the maximum value in a dictionary\n",
        "def key_with_max_value(d):\n",
        "    return max(d, key=d.get)\n",
        "\n",
        "# 62. Filter dictionary entries based on their values\n",
        "def filter_dict_by_value(d, threshold):\n",
        "    return {k: v for k, v in d.items() if v > threshold}\n",
        "\n",
        "# 63. Find keys in a dictionary that have a specific value\n",
        "def keys_with_value(d, target_value):\n",
        "    return [k for k, v in d.items() if v == target_value]\n",
        "\n",
        "# 64. Group elements in a list by frequency using a dictionary\n",
        "def group_by_frequency(lst):\n",
        "    freq_dict = {}\n",
        "    for item in lst:\n",
        "        freq_dict[item] = freq_dict.get(item, 0) + 1\n",
        "    return freq_dict\n",
        "\n",
        "# 65. Sort a dictionary by its values\n",
        "def sort_dict_by_values(d):\n",
        "    return dict(sorted(d.items(), key=lambda item: item[1]))\n",
        "\n",
        "# 66. Create a set and add elements to it\n",
        "def create_set(elements):\n",
        "    return set(elements)\n",
        "\n",
        "# 67. Remove an element from a set\n",
        "def remove_element(s, element):\n",
        "    s.discard(element)\n",
        "    return s\n",
        "\n",
        "# 68. Find the union of two sets\n",
        "def union_sets(s1, s2):\n",
        "    return s1 | s2\n",
        "\n",
        "# 69. Find the intersection of two sets\n",
        "def intersection_sets(s1, s2):\n",
        "    return s1 & s2\n",
        "\n",
        "# 70. Check if a set is a subset of another set\n",
        "def is_subset(s1, s2):\n",
        "    return s1 <= s2\n",
        "\n",
        "# 71. Find the difference between two sets\n",
        "def difference_sets(s1, s2):\n",
        "    return s1 - s2\n",
        "\n",
        "# 72. Iterate over the elements of a set\n",
        "def iterate_set(s):\n",
        "    for element in s:\n",
        "        print(element)\n",
        "\n",
        "# 73. Convert a list into a set and remove duplicates\n",
        "def list_to_set(lst):\n",
        "    return set(lst)\n",
        "\n",
        "# 74. Find the symmetric difference of two sets\n",
        "def symmetric_difference_sets(s1, s2):\n",
        "    return s1 ^ s2\n",
        "\n",
        "# 75. Check if two sets have any common elements\n",
        "def have_common_elements(s1, s2):\n",
        "    return bool(s1 & s2)\n",
        "\n",
        "# 76. Check if a set is a superset of another set\n",
        "def is_superset(s1, s2):\n",
        "    return s1 >= s2\n",
        "\n",
        "# 77. Check if a set is disjoint from another set\n",
        "def is_disjoint(s1, s2):\n",
        "    return s1.isdisjoint(s2)\n",
        "\n",
        "# 78. Remove all elements from a set\n",
        "def clear_set(s):\n",
        "    s.clear()\n",
        "    return s\n",
        "\n",
        "# 79. Find the smallest and largest elements in a set\n",
        "def smallest_largest_elements(s):\n",
        "    return min(s), max(s)\n",
        "\n",
        "# 80. Find the length of a set without using the len() function\n",
        "def length_of_set(s):\n",
        "    count = 0\n",
        "    for _ in s:\n",
        "        count += 1\n",
        "    return count\n",
        "\n",
        "# 81. Check if a number is positive, negative, or zero\n",
        "def check_number(num):\n",
        "    if num > 0:\n",
        "        return \"Positive\"\n",
        "    elif num < 0:\n",
        "        return \"Negative\"\n",
        "    else:\n",
        "        return \"Zero\"\n",
        "\n",
        "# Example usage (You can uncomment these lines to test):\n",
        "# keys = ['a', 'b', 'c']\n",
        "# values = [1, 2, 3]\n",
        "# print(create_dict(keys, values))\n",
        "# print(access_value({'a': 1, 'b': 2}, 'b'))\n",
        "# print(update_value({'a': 1, 'b': 2}, 'a', 10))\n",
        "# print(remove_key({'a': 1, 'b': 2}, 'a'))\n",
        "# print(merge_dicts({'a': 1}, {'b': 2}))\n",
        "# print(max_min_values({'a': 10, 'b': 20, 'c': 5}))\n",
        "# print(word_frequency(\"hello world hello\"))\n",
        "# print(key_exists({'a': 1, 'b': 2}, 'a'))\n",
        "# iterate_dict({'a': 1, 'b': 2})\n",
        "# print(invert_dict({'a': 1, 'b': 2, 'c': 3}))\n",
        "# print(keys_and_values({'a': 1, 'b': 2, 'c': 3}))\n",
        "# print(sort_dict_by_keys({'b': 2, 'a': 1, 'c': 3}))\n",
        "# print(common_keys({'a': 1, 'b': 2}, {'b': 3, 'c': 4}))\n",
        "# print(sum_of_values({'a': 10, 'b': 20, 'c': 5}))\n",
        "# print(remove_duplicates({'a': 1, 'b': 2, 'c': 1}))\n",
        "# print(key_with_max_value({'a': 10, 'b': 20, 'c': 5}))\n",
        "# print(filter_dict_by_value({'a': 10, 'b': 5}, 6))\n",
        "# print(keys_with_value({'a': 10, 'b': 20, 'c': 10}, 10))\n",
        "# print(group_by_frequency([1, 2, 2, 3, 3, 3]))\n",
        "# print(sort_dict_by_values({'a': 10, 'b': 5, 'c': 20}))\n",
        "# print(create_set([1, 2, 3, 1]))\n",
        "# print(remove_element({1, 2, 3}, 2))\n",
        "# print(union_sets({1, 2}, {2, 3}))\n",
        "# print(intersection_sets({1, 2}, {2, 3}))\n",
        "# print(is_subset({1}, {1, 2}))\n",
        "# print(difference_sets({1, 2}, {2, 3}))\n",
        "# iterate_set({1, 2, 3})\n",
        "# print(list_to_set([1, 2, 2, 3]))\n",
        "# print(symmetric_difference_sets({1, 2}, {2, 3}))\n",
        "# print(have_common_elements({1}, {2}))\n",
        "# print(is_superset({1, 2}, {1}))\n",
        "# print(is_disjoint({1}, {2}))\n",
        "# print(clear_set({1, 2, 3}))\n",
        "# print(smallest_largest_elements({1, 2, 3}))\n",
        "# print(length_of_set({1, 2, 3}))\n",
        "# print(check_number(5))\n"
      ],
      "metadata": {
        "id": "4logRFUnMdB6"
      },
      "execution_count": null,
      "outputs": []
    },
    {
      "cell_type": "markdown",
      "source": [
        "82. Write a program to check if a number is odd or even.\n",
        "83. Write a program to check if a year is a leap year.\n",
        "84. Write a program to find the largest of three numbers.\n",
        "85. Write a program to check if a string contains a vowel.\n",
        "86. Write a program to check if a list is empty or not.\n",
        "87. Write a program to check if a number is divisible by both 3 and 5.\n",
        "88. Write a program to check if a number is prime.\n",
        "89. Write a program to print \"Hello\" if the input number is greater than 10, else\n",
        "print \"Goodbye\".\n",
        "90. Write a program to check if the first and last elements of a list are the same.\n",
        "91. Write a program to determine the grade based on a student's score.\n",
        "92. Write a program to check if a string contains only alphabetic characters.\n",
        "93. Write a program to check if two lists are identical.\n",
        "94. Write a program to check if a dictionary is empty.\n",
        "95. Write a program to determine if a number is divisible by a specific number.\n",
        "96. Write a program to print the first 10 natural numbers using a loop.\n",
        "97. Write a program to find the factorial of a number using a loop.\n",
        "98. Write a program to print the Fibonacci sequence up to n terms using a loop.\n",
        "99. Write a program to calculate the sum of all elements in a list using a loop.\n",
        "100. Write a program to count the number of even numbers in a list using a\n",
        "loop.\n",
        "101. Write a program to print all prime numbers between 1 and 100 using a\n",
        "loop.\n",
        "102. Write a program to print the multiplication table of a given number using a\n",
        "loop.\n",
        "103. Write a program to find the reverse of a number using a loop.\n",
        "104. Write a program to count the number of digits in a number using a loop.\n",
        "105. Write a program to find the sum of digits of a number using a loop.\n",
        "106. Write a program to reverse a list using a loop.\n",
        "107. Write a program to check if a number is prime using a loop.\n",
        "108. Write a program to print all even numbers from 1 to 100 using a loop.\n",
        "109. Write a program to calculate the product of all elements in a list using a\n",
        "loop.\n",
        "110. Write a program to find the GCD (Greatest Common Divisor) of two\n",
        "numbers using a loop.\n",
        "111. Write a program to print all the characters in a string using a loop.\n",
        "112. Write a program to print the sum of all even numbers up to n using a loop\n",
        "113. Write a program to print the sum of all odd numbers up to n using a loop.\n",
        "114. Write a program to find the factorial of a number using a while loop.\n",
        "115. Write a program to calculate the sum of the squares of the first n natural\n",
        "numbers using a loop.\n",
        "116. Write a program to check if a string is a valid palindrome (ignoring spaces\n",
        "and case).\n",
        "117. Write a program to find the longest substring without repeating characters.\n",
        "118. Write a program to count the frequency of each character in a string.\n",
        "119. Write a program to find the first non-repeating character in a string.\n",
        "120. Write a program to reverse the words in a given sentence.\n",
        "121. Write a program to find the longest word in a sentence.\n",
        "122. Write a program to split a string by a specific delimiter and join it back.\n",
        "123. Write a program to find the number of uppercase and lowercase letters in a\n",
        "string.\n",
        "124. Write a program to find all substrings of a given string.\n",
        "125. Write a program to remove duplicate characters from a string.\n",
        "126. Write a program to find all possible permutations of a string.\n",
        "127. Write a program to find the longest palindromic substring in a given string.\n",
        "128. Write a program to check if a string contains only alphanumeric characters.\n",
        "129. Write a program to remove all characters from a string except alphabets.\n",
        "130. Write a program to check if a string is a valid email address.\n",
        "Intermediate List Problems\n",
        "131. Write a program to rotate elements of a list by k positions.\n",
        "132. Write a program to find the cumulative sum of elements in a list.\n",
        "Follow me on LinkedIn – Shivakiran kotur\n",
        "133. Write a program to find the intersection of two lists.\n",
        "134. Write a program to find all pairs in a list that sum up to a specific number.\n",
        "135. Write a program to remove all occurrences of a specific element from a list.\n",
        "136. Write a program to split a list into chunks of size n.\n",
        "137. Write a program to flatten a list of lists into a single list.\n",
        "138. Write a program to find the most frequent element in a list.\n",
        "139. Write a program to find the k largest elements in a list.\n",
        "140. Write a program to sort a list of tuples based on the second element.\n",
        "141. Write a program to find all permutations of a list.\n",
        "142. Write a program to sort a list of dictionaries by a key.\n",
        "143. Write a program to find the median of a list of numbers.\n",
        "144. Write a program to count the number of unique elements in a list.\n",
        "145. Write a program to find the longest increasing subsequence in a list.\n",
        "Intermediate Dictionary Problems\n",
        "146. Write a program to merge multiple dictionaries into one.\n",
        "147. Write a program to count the frequency of elements in a list using a\n",
        "dictionary.\n",
        "148. Write a program to group elements of a list based on the frequency in a\n",
        "dictionary.\n",
        "149. Write a program to find the key with the maximum value in a dictionary.\n",
        "150. Write a program to sort a dictionary by its values.\n",
        "Follow me on LinkedIn – Shivakiran kotur\n",
        "Intermediate Loop Questions\n",
        "151. Write a program to find all the duplicate characters in a string.\n",
        "152. Write a program to generate a list of all unique substrings of a given string.\n",
        "153. Write a program to count the number of occurrences of each word in a list\n",
        "of strings.\n",
        "154. Write a program to sort a list of strings by their lengths.\n",
        "155. Write a program to merge two lists into a single list, alternating elements\n",
        "from each list.\n",
        "156. Write a program to find the most frequent element in a list of integers.\n",
        "157. Write a program to find all anagrams of a given word from a list of words.\n",
        "158. Write a program to remove all non-alphabetic characters from a string.\n",
        "159. Write a program to find the sum of the lengths of all strings in a list.\n",
        "160. Write a program to count the number of palindromic substrings in a given\n",
        "string.\n",
        "161. Write a program to find the common characters between two strings.\n",
        "162. Write a program to generate all combinations of characters from a given\n",
        "string.\n",
        "163. Write a program to find all pairs of elements in a list that sum up to a\n",
        "specific target value.\n",
        "164. Write a program to replace all occurrences of a character in a string with\n",
        "another character.\n",
        "165. Write a program to find the number of unique words in a list of strings.\n",
        "Follow me on LinkedIn – Shivakiran kotur\n",
        "166. Write a program to remove all occurrences of a specific word from a list of\n",
        "words.\n",
        "167. Write a program to count the number of vowels in each string in a list of\n",
        "strings.\n",
        "168. Write a program to find the index of the last occurrence of a substring in a\n",
        "given string.\n",
        "169. Write a program to split a list into two sublists of roughly equal size.\n",
        "170. Write a program to generate a list of all permutations of a given list of\n",
        "integers.\n",
        "171. Write a program to find the longest common prefix among a list of strings.\n",
        "172. Write a program to count the total number of characters in all strings of a\n",
        "list.\n",
        "173. Write a program to find the average length of strings in a list.\n",
        "This extended list should give you a comprehensive set of interview questions,\n",
        "covering key Python concepts and scenarios asked in interviews focused on\n",
        "strings, lists, dictionaries, sets, if-else conditions, and loops"
      ],
      "metadata": {
        "id": "91GVa3MtNn5Q"
      }
    },
    {
      "cell_type": "code",
      "source": [
        "# 82. Check if a number is odd or even\n",
        "def check_odd_even(n):\n",
        "    return \"Even\" if n % 2 == 0 else \"Odd\"\n",
        "\n",
        "# 83. Check if a year is a leap year\n",
        "def is_leap_year(year):\n",
        "    return year % 4 == 0 and (year % 100 != 0 or year % 400 == 0)\n",
        "\n",
        "# 84. Find the largest of three numbers\n",
        "def largest_of_three(a, b, c):\n",
        "    return max(a, b, c)\n",
        "\n",
        "# 85. Check if a string contains a vowel\n",
        "def contains_vowel(s):\n",
        "    return any(vowel in s for vowel in 'aeiouAEIOU')\n",
        "\n",
        "# 86. Check if a list is empty or not\n",
        "def is_list_empty(lst):\n",
        "    return len(lst) == 0\n",
        "\n",
        "# 87. Check if a number is divisible by both 3 and 5\n",
        "def divisible_by_3_and_5(n):\n",
        "    return n % 3 == 0 and n % 5 == 0\n",
        "\n",
        "# 88. Check if a number is prime\n",
        "def is_prime(n):\n",
        "    if n <= 1: return False\n",
        "    for i in range(2, int(n**0.5) + 1):\n",
        "        if n % i == 0: return False\n",
        "    return True\n",
        "\n",
        "# 89. Print \"Hello\" if the number is greater than 10, else print \"Goodbye\"\n",
        "def greet_number(n):\n",
        "    return \"Hello\" if n > 10 else \"Goodbye\"\n",
        "\n",
        "# 90. Check if the first and last elements of a list are the same\n",
        "def first_last_same(lst):\n",
        "    return lst[0] == lst[-1] if lst else False\n",
        "\n",
        "# 91. Determine the grade based on a student's score\n",
        "def determine_grade(score):\n",
        "    if score >= 90: return 'A'\n",
        "    elif score >= 80: return 'B'\n",
        "    elif score >= 70: return 'C'\n",
        "    elif score >= 60: return 'D'\n",
        "    else: return 'F'\n",
        "\n",
        "# 92. Check if a string contains only alphabetic characters\n",
        "def is_alpha_string(s):\n",
        "    return s.isalpha()\n",
        "\n",
        "# 93. Check if two lists are identical\n",
        "def are_lists_identical(lst1, lst2):\n",
        "    return lst1 == lst2\n",
        "\n",
        "# 94. Check if a dictionary is empty\n",
        "def is_dict_empty(d):\n",
        "    return len(d) == 0\n",
        "\n",
        "# 95. Determine if a number is divisible by a specific number\n",
        "def divisible_by_specific(n, divisor):\n",
        "    return n % divisor == 0\n",
        "\n",
        "# 96. Print the first 10 natural numbers using a loop\n",
        "def first_10_natural_numbers():\n",
        "    return list(range(1, 11))\n",
        "\n",
        "# 97. Find the factorial of a number using a loop\n",
        "def factorial(n):\n",
        "    result = 1\n",
        "    for i in range(1, n+1):\n",
        "        result *= i\n",
        "    return result\n",
        "\n",
        "# 98. Print the Fibonacci sequence up to n terms using a loop\n",
        "def fibonacci(n):\n",
        "    fib_sequence = [0, 1]\n",
        "    for i in range(2, n):\n",
        "        fib_sequence.append(fib_sequence[-1] + fib_sequence[-2])\n",
        "    return fib_sequence[:n]\n",
        "\n",
        "# 99. Calculate the sum of all elements in a list using a loop\n",
        "def sum_of_elements(lst):\n",
        "    return sum(lst)\n",
        "\n",
        "# 100. Count the number of even numbers in a list using a loop\n",
        "def count_even_numbers(lst):\n",
        "    return len([x for x in lst if x % 2 == 0])\n",
        "\n",
        "# 101. Print all prime numbers between 1 and 100 using a loop\n",
        "def primes_up_to_100():\n",
        "    return [x for x in range(2, 101) if is_prime(x)]\n",
        "\n",
        "# 102. Print the multiplication table of a given number using a loop\n",
        "def multiplication_table(n):\n",
        "    return [n * i for i in range(1, 11)]\n",
        "\n",
        "# 103. Find the reverse of a number using a loop\n",
        "def reverse_number(n):\n",
        "    return int(str(n)[::-1])\n",
        "\n",
        "# 104. Count the number of digits in a number using a loop\n",
        "def count_digits(n):\n",
        "    return len(str(abs(n)))\n",
        "\n",
        "# 105. Find the sum of digits of a number using a loop\n",
        "def sum_of_digits(n):\n",
        "    return sum(int(digit) for digit in str(abs(n)))\n",
        "\n",
        "# 106. Reverse a list using a loop\n",
        "def reverse_list(lst):\n",
        "    return lst[::-1]\n",
        "\n",
        "# 107. Check if a number is prime using a loop (repeated)\n",
        "# Function already defined earlier\n",
        "\n",
        "# 108. Print all even numbers from 1 to 100 using a loop\n",
        "def even_numbers_up_to_100():\n",
        "    return [x for x in range(1, 101) if x % 2 == 0]\n",
        "\n",
        "# 109. Calculate the product of all elements in a list using a loop\n",
        "def product_of_elements(lst):\n",
        "    result = 1\n",
        "    for num in lst:\n",
        "        result *= num\n",
        "    return result\n",
        "\n",
        "# 110. Find the GCD (Greatest Common Divisor) of two numbers using a loop\n",
        "import math\n",
        "def gcd(a, b):\n",
        "    return math.gcd(a, b)\n",
        "\n",
        "# 111. Print all characters in a string using a loop\n",
        "def print_characters(s):\n",
        "    return [char for char in s]\n",
        "\n",
        "# 112. Print the sum of all even numbers up to n using a loop\n",
        "def sum_of_even_numbers(n):\n",
        "    return sum([x for x in range(1, n+1) if x % 2 == 0])\n",
        "\n",
        "# 113. Print the sum of all odd numbers up to n using a loop\n",
        "def sum_of_odd_numbers(n):\n",
        "    return sum([x for x in range(1, n+1) if x % 2 != 0])\n",
        "\n",
        "# 114. Find the factorial of a number using a while loop (repeated)\n",
        "# Function already defined earlier\n",
        "\n",
        "# 115. Calculate the sum of the squares of the first n natural numbers using a loop\n",
        "def sum_of_squares(n):\n",
        "    return sum([x**2 for x in range(1, n+1)])\n",
        "\n",
        "# 116. Check if a string is a valid palindrome (ignoring spaces and case)\n",
        "def is_palindrome(s):\n",
        "    cleaned_s = ''.join(e for e in s.lower() if e.isalnum())\n",
        "    return cleaned_s == cleaned_s[::-1]\n",
        "\n",
        "# 117. Find the longest substring without repeating characters\n",
        "def longest_unique_substring(s):\n",
        "    start, max_length = 0, 0\n",
        "    used_char = {}\n",
        "    for i, char in enumerate(s):\n",
        "        if char in used_char and start <= used_char[char]:\n",
        "            start = used_char[char] + 1\n",
        "        else:\n",
        "            max_length = max(max_length, i - start + 1)\n",
        "        used_char[char] = i\n",
        "    return max_length\n"
      ],
      "metadata": {
        "id": "Sj9HxYNPNpfR"
      },
      "execution_count": null,
      "outputs": []
    }
  ]
}